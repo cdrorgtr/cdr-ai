{
  "nbformat": 4,
  "nbformat_minor": 0,
  "metadata": {
    "colab": {
      "provenance": []
    },
    "kernelspec": {
      "name": "python3",
      "display_name": "Python 3"
    },
    "language_info": {
      "name": "python"
    }
  },
  "cells": [
    {
      "cell_type": "code",
      "execution_count": 1,
      "metadata": {
        "colab": {
          "base_uri": "https://localhost:8080/"
        },
        "id": "AEDf9C9ahisJ",
        "outputId": "b4b43720-b264-46ed-bf41-842424c9a2bc"
      },
      "outputs": [
        {
          "name": "stdout",
          "output_type": "stream",
          "text": [
            "Requirement already satisfied: openai in /usr/local/lib/python3.10/dist-packages (1.52.2)\n",
            "Collecting openai\n",
            "  Downloading openai-1.54.3-py3-none-any.whl.metadata (24 kB)\n",
            "Requirement already satisfied: anyio<5,>=3.5.0 in /usr/local/lib/python3.10/dist-packages (from openai) (3.7.1)\n",
            "Requirement already satisfied: distro<2,>=1.7.0 in /usr/local/lib/python3.10/dist-packages (from openai) (1.9.0)\n",
            "Requirement already satisfied: httpx<1,>=0.23.0 in /usr/local/lib/python3.10/dist-packages (from openai) (0.27.2)\n",
            "Requirement already satisfied: jiter<1,>=0.4.0 in /usr/local/lib/python3.10/dist-packages (from openai) (0.6.1)\n",
            "Requirement already satisfied: pydantic<3,>=1.9.0 in /usr/local/lib/python3.10/dist-packages (from openai) (2.9.2)\n",
            "Requirement already satisfied: sniffio in /usr/local/lib/python3.10/dist-packages (from openai) (1.3.1)\n",
            "Requirement already satisfied: tqdm>4 in /usr/local/lib/python3.10/dist-packages (from openai) (4.66.6)\n",
            "Requirement already satisfied: typing-extensions<5,>=4.11 in /usr/local/lib/python3.10/dist-packages (from openai) (4.12.2)\n",
            "Requirement already satisfied: idna>=2.8 in /usr/local/lib/python3.10/dist-packages (from anyio<5,>=3.5.0->openai) (3.10)\n",
            "Requirement already satisfied: exceptiongroup in /usr/local/lib/python3.10/dist-packages (from anyio<5,>=3.5.0->openai) (1.2.2)\n",
            "Requirement already satisfied: certifi in /usr/local/lib/python3.10/dist-packages (from httpx<1,>=0.23.0->openai) (2024.8.30)\n",
            "Requirement already satisfied: httpcore==1.* in /usr/local/lib/python3.10/dist-packages (from httpx<1,>=0.23.0->openai) (1.0.6)\n",
            "Requirement already satisfied: h11<0.15,>=0.13 in /usr/local/lib/python3.10/dist-packages (from httpcore==1.*->httpx<1,>=0.23.0->openai) (0.14.0)\n",
            "Requirement already satisfied: annotated-types>=0.6.0 in /usr/local/lib/python3.10/dist-packages (from pydantic<3,>=1.9.0->openai) (0.7.0)\n",
            "Requirement already satisfied: pydantic-core==2.23.4 in /usr/local/lib/python3.10/dist-packages (from pydantic<3,>=1.9.0->openai) (2.23.4)\n",
            "Downloading openai-1.54.3-py3-none-any.whl (389 kB)\n",
            "\u001b[2K   \u001b[90m━━━━━━━━━━━━━━━━━━━━━━━━━━━━━━━━━━━━━━━━\u001b[0m \u001b[32m389.6/389.6 kB\u001b[0m \u001b[31m7.0 MB/s\u001b[0m eta \u001b[36m0:00:00\u001b[0m\n",
            "\u001b[?25hInstalling collected packages: openai\n",
            "  Attempting uninstall: openai\n",
            "    Found existing installation: openai 1.52.2\n",
            "    Uninstalling openai-1.52.2:\n",
            "      Successfully uninstalled openai-1.52.2\n",
            "Successfully installed openai-1.54.3\n",
            "··········\n"
          ]
        }
      ],
      "source": [
        "!pip install --upgrade openai\n",
        "\n",
        "import os\n",
        "import json\n",
        "import csv\n",
        "from getpass import getpass\n",
        "\n",
        "OPENAI_API_KEY = getpass()\n",
        "import os\n",
        "\n",
        "os.environ[\"OPENAI_API_KEY\"] = OPENAI_API_KEY\n",
        "\n",
        "from openai import OpenAI # OpenAI official Python package\n",
        "from IPython.display import Audio # Included to Python\n",
        "\n",
        "client = OpenAI(\n",
        "    api_key=os.getenv(\"OPENAI_API_KEY\"))"
      ]
    },
    {
      "cell_type": "code",
      "source": [
        "from google.colab import drive\n",
        "\n",
        "drive.mount('/content/drive')"
      ],
      "metadata": {
        "colab": {
          "base_uri": "https://localhost:8080/"
        },
        "id": "GEjSgOwAjI0p",
        "outputId": "6de6cac2-e6df-4e84-e3b7-ad8b169626d2"
      },
      "execution_count": 2,
      "outputs": [
        {
          "output_type": "stream",
          "name": "stdout",
          "text": [
            "Mounted at /content/drive\n"
          ]
        }
      ]
    },
    {
      "cell_type": "code",
      "source": [
        "# prompt: write a codpiece that analyses img folder, then for each image, send a request to OpenAI endpoint to extract some specific information I will give in the prompt, process result as json and then create a csv and put in results.csv.\n",
        "\n",
        "import base64\n",
        "import requests\n",
        "\n",
        "print(\"\"\"\n",
        "Fişlerin bulunduğu klasörün yolunu bulmak için:\n",
        "1. Sol menüden Dosya ikonuna tıklayın.\n",
        "2. Yenileme tuşuna tıklayın.\n",
        "3. Drive > MyDrive klasörünü açarak Google Drive'ınızın ana klasörüne, Drive > Shareddrives klasörüne girerek sizlerle paylaşılan drive'lara göz atabilirsiniz.\n",
        "4. Fişlerinizin bulunduğu klasöre geldiğinizde klasörün yanındaki Kebap Menü işaretine basınız.\n",
        "5. Copy path tuşuna basarak yolu kopyalayınız ve aşağıdaki boşluğa yapıştırınız.\n",
        "\"\"\")\n",
        "# Define the folder containing the images\n",
        "image_folder = input('Fişlerinizin bulunduğu klasörün yolu: ')\n",
        "\n",
        "print(\"\"\"\n",
        "\n",
        "### BEEEP BOOOP! ÇALIŞIYORUM... ###\n",
        "\n",
        "\"\"\")\n",
        "\n",
        "# Define the prompt for the OpenAI API call\n",
        "prompt = \"\"\"Bu fişteki \\\"fiş numarası, tarih, işletme ismi, toplam fiyat, kdv oranı \\\" bilgilerini bir csv satırıymış gibi döndür.\n",
        "\n",
        "Başlık satırı olmasın yalnızca cevap satırı olsun ve bundan başka hiçbir şey yazdırma.\n",
        "Sadece row içeriğini yazdır başka hiçbir şey yazdırma. Aşağıdaki kolonların tamamının bulunduğundan emin ol.\n",
        "\n",
        "CSV Kolonları: \"BELGE NO\", \"BELGE TARIHI\", \"DEPARTMAN\", \"BUTCE\", \"GIDER\",\"HARCAMA YERI\",\"ACIKLAMA\",\"BELGE TURU\", \"TOPLAM ODENECEK\", \"KDV ORANI\"\n",
        "\n",
        "- DEPARTMAN, BÜTÇE, GİDER ve AÇIKLAMA'yı her zaman boş bırak. Hiçbir karakter koyma.\n",
        "- BELGE TÜRÜ'ne FIS yaz.\n",
        "- HARCAMA YERİ'ne işletme ismini yaz.\n",
        "- BELGE TARIHI'ni metin biçimnde değil, YYYY-MM-DD olarak tarih biçiminde yaz.\n",
        "- Toplam Ödenecek kısmını her zaman sayı biçiminde yaz.\n",
        "- KDV oranı olarak sadece bu seçeneklerden birini seç (%20, %10, %1, %0)\n",
        "\n",
        "Örnek cevap:\n",
        "0009,2023-08-07,,,,\"X Gıda\",,FIS,240.00,%1\n",
        "\"\"\"\n",
        "\n",
        "# Create a CSV file to store the results\n",
        "with open(\"results.csv\", \"w\", newline=\"\") as csvfile:\n",
        "  writer = csv.writer(csvfile)\n",
        "  writer.writerow([\"BELGE NO\", \"BELGE TARIHI\", \"DEPARTMAN\", \"BUTCE\", \"GIDER\",\"HARCAMA YERI\",\"ACIKLAMA\",\"BELGE TURU\", \"TOPLAM ODENECEK\", \"KDV ORANI\"])\n",
        "\n",
        "  # Iterate over each image in the folder\n",
        "  for filename in os.listdir(image_folder):\n",
        "    if filename.endswith((\".jpg\", \".png\", \".jpeg\", \".JPG\", \".PNG\", \".JPEG\")):\n",
        "      image_path = os.path.join(image_folder, filename)\n",
        "\n",
        "      filetype = filename.split(\".\")[-1]\n",
        "\n",
        "      # Open the image and convert it to base64\n",
        "      with open(image_path, \"rb\") as image_file:\n",
        "        image_bytes = image_file.read()\n",
        "        image_base64 = base64.b64encode(image_bytes).decode(\"utf-8\")\n",
        "\n",
        "        response = client.chat.completions.create(\n",
        "        model=\"gpt-4o\",\n",
        "            messages=[\n",
        "                {\n",
        "                    \"role\": \"user\",\n",
        "                    \"content\": [\n",
        "                        {\"type\": \"text\", \"text\" :prompt },\n",
        "                        {\n",
        "                            \"type\": \"image_url\",\n",
        "                            \"image_url\":{\"url\": \"data:image/\"+filetype+\";base64,\" + image_base64},\n",
        "                        },\n",
        "                    ],\n",
        "                }\n",
        "            ],\n",
        "            max_tokens=300,\n",
        "        )\n",
        "\n",
        "      print(response.choices[0].message.content)\n",
        "      # Extract the extracted information from the response\n",
        "      extracted_information  =response.choices[0].message.content\n",
        "\n",
        "      if \",\" in extracted_information:\n",
        "      # Write the image name and extracted information to the CSV file\n",
        "        writer.writerow(extracted_information.split(\",\"))\n",
        "      else:\n",
        "        print(\"Problem in: \" + filename)\n",
        "\n",
        "print(\"\"\"\n",
        "\n",
        "### BEEEP BOOOP! İŞLEM BAŞARIYLA TAMAMLANDI!\n",
        "\n",
        "CSV Dosyanızı indirmek için:\n",
        "\n",
        "1. Sol menüdeki Klasör ikonuna tıklayın.\n",
        "2. results.csv'nin yanındaki Kebap Menü ikonuna tıklayın.\n",
        "3. Download tuşuna basın.\n",
        "\n",
        "### UYARI! Harcamaların doğru geçip geçmediğini insan gözüyle tekrar kontrol ediniz.\n",
        "\"\"\")"
      ],
      "metadata": {
        "colab": {
          "base_uri": "https://localhost:8080/"
        },
        "id": "Jrn0AXM5h7Ba",
        "outputId": "90aec543-9d98-4e57-9252-e504bd106ae8"
      },
      "execution_count": 4,
      "outputs": [
        {
          "output_type": "stream",
          "name": "stdout",
          "text": [
            "\n",
            "Fişlerin bulunduğu klasörün yolunu bulmak için:\n",
            "1. Sol menüden Dosya ikonuna tıklayın.\n",
            "2. Yenileme tuşuna tıklayın.\n",
            "3. Drive > MyDrive klasörünü açarak Google Drive'ınızın ana klasörüne, Drive > Shareddrives klasörüne girerek sizlerle paylaşılan drive'lara göz atabilirsiniz.\n",
            "4. Fişlerinizin bulunduğu klasöre geldiğinizde klasörün yanındaki Kebap Menü işaretine basınız.\n",
            "5. Copy path tuşuna basarak yolu kopyalayınız ve aşağıdaki boşluğa yapıştırınız.\n",
            "\n",
            "Fişlerinizin bulunduğu klasörün yolu: /content/drive/MyDrive/CDR AI/Finans/Ekim/Fişler\n",
            "\n",
            "\n",
            "### BEEEP BOOOP! ÇALIŞIYORUM... ###\n",
            "\n",
            "\n",
            "0018,2023-09-15,,,,MiGROS TICARET A.S.,,FIS,812.03,%10\n",
            "0009,2023-08-07,,,,Cihan Gıda,,FIS,240.00,%1\n",
            "000095-0031,2022-03-25,,,,,\"Kosinitza Cafe\",FIS,100.00,%10\n",
            "0018,2022-07-08,,,,\"İstanbul Dudullu Org.San.Bölgesi\",,FIS,429.00,%8\n",
            "15,2022-07-27,,,,KOSİNİTZA CAFE,,FIS,350.00,%10\n",
            "2,2024-06-17,,,,HODL,,FIS,464.00,%10\n",
            "7,2024-01-07,,,,HODL,,FIS,478.80,%10\n",
            "16,2024-01-02,,,,Black Angus,,FIS,529.00,%10\n",
            "0146,2024-02-07,,,,D&R,,FIS,3594.25,%20\n",
            "0007,2023-07-12,,,,SEMOLİNA İTALYAN RESTORAN,,FIS,2447.00,%10\n",
            "0003,2022-09-06,,,,\"GORGONZO GIDA TUR.REK.ITH.\",,FIS,159.00,%10\n",
            "\n",
            "\n",
            "### BEEEP BOOOP! İŞLEM BAŞARIYLA TAMAMLANDI!\n",
            "\n",
            "CSV Dosyanızı indirmek için:\n",
            "\n",
            "1. Sol menüdeki Klasör ikonuna tıklayın.\n",
            "2. results.csv'nin yanındaki Kebap Menü ikonuna tıklayın.\n",
            "3. Download tuşuna basın.\n",
            "\n",
            "### UYARI! Harcamaların doğru geçip geçmediğini insan gözüyle tekrar kontrol ediniz.\n",
            "\n"
          ]
        }
      ]
    }
  ]
}